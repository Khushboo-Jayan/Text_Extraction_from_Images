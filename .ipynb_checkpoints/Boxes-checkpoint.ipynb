{
 "cells": [
  {
   "cell_type": "code",
   "execution_count": 2,
   "metadata": {},
   "outputs": [
    {
     "ename": "error",
     "evalue": "OpenCV(4.7.0) D:\\a\\opencv-python\\opencv-python\\opencv\\modules\\imgproc\\src\\resize.cpp:4062: error: (-215:Assertion failed) !ssize.empty() in function 'cv::resize'\n",
     "output_type": "error",
     "traceback": [
      "\u001b[1;31m---------------------------------------------------------------------------\u001b[0m",
      "\u001b[1;31merror\u001b[0m                                     Traceback (most recent call last)",
      "\u001b[1;32md:\\TU Dublin\\year 4\\Image Processing\\Text_Extraction_from_Images\\.ipynb_checkpoints\\Boxes-checkpoint.ipynb Cell 1\u001b[0m line \u001b[0;36m3\n\u001b[0;32m     <a href='vscode-notebook-cell:/d%3A/TU%20Dublin/year%204/Image%20Processing/Text_Extraction_from_Images/.ipynb_checkpoints/Boxes-checkpoint.ipynb#W0sZmlsZQ%3D%3D?line=29'>30</a>\u001b[0m input_image_path \u001b[39m=\u001b[39m \u001b[39m'\u001b[39m\u001b[39mBoss.jpeg\u001b[39m\u001b[39m'\u001b[39m\n\u001b[0;32m     <a href='vscode-notebook-cell:/d%3A/TU%20Dublin/year%204/Image%20Processing/Text_Extraction_from_Images/.ipynb_checkpoints/Boxes-checkpoint.ipynb#W0sZmlsZQ%3D%3D?line=31'>32</a>\u001b[0m \u001b[39m# Call the function to draw boxes on detected characters\u001b[39;00m\n\u001b[1;32m---> <a href='vscode-notebook-cell:/d%3A/TU%20Dublin/year%204/Image%20Processing/Text_Extraction_from_Images/.ipynb_checkpoints/Boxes-checkpoint.ipynb#W0sZmlsZQ%3D%3D?line=32'>33</a>\u001b[0m result_image \u001b[39m=\u001b[39m draw_boxes_on_character(input_image_path)\n\u001b[0;32m     <a href='vscode-notebook-cell:/d%3A/TU%20Dublin/year%204/Image%20Processing/Text_Extraction_from_Images/.ipynb_checkpoints/Boxes-checkpoint.ipynb#W0sZmlsZQ%3D%3D?line=34'>35</a>\u001b[0m \u001b[39m# Display or save the resulting image\u001b[39;00m\n\u001b[0;32m     <a href='vscode-notebook-cell:/d%3A/TU%20Dublin/year%204/Image%20Processing/Text_Extraction_from_Images/.ipynb_checkpoints/Boxes-checkpoint.ipynb#W0sZmlsZQ%3D%3D?line=35'>36</a>\u001b[0m cv2\u001b[39m.\u001b[39mimshow(\u001b[39m'\u001b[39m\u001b[39mDetected Characters\u001b[39m\u001b[39m'\u001b[39m, result_image)\n",
      "\u001b[1;32md:\\TU Dublin\\year 4\\Image Processing\\Text_Extraction_from_Images\\.ipynb_checkpoints\\Boxes-checkpoint.ipynb Cell 1\u001b[0m line \u001b[0;36m7\n\u001b[0;32m      <a href='vscode-notebook-cell:/d%3A/TU%20Dublin/year%204/Image%20Processing/Text_Extraction_from_Images/.ipynb_checkpoints/Boxes-checkpoint.ipynb#W0sZmlsZQ%3D%3D?line=3'>4</a>\u001b[0m \u001b[39mdef\u001b[39;00m \u001b[39mdraw_boxes_on_character\u001b[39m(img_path):\n\u001b[0;32m      <a href='vscode-notebook-cell:/d%3A/TU%20Dublin/year%204/Image%20Processing/Text_Extraction_from_Images/.ipynb_checkpoints/Boxes-checkpoint.ipynb#W0sZmlsZQ%3D%3D?line=4'>5</a>\u001b[0m     \u001b[39m# Load the image using OpenCV\u001b[39;00m\n\u001b[0;32m      <a href='vscode-notebook-cell:/d%3A/TU%20Dublin/year%204/Image%20Processing/Text_Extraction_from_Images/.ipynb_checkpoints/Boxes-checkpoint.ipynb#W0sZmlsZQ%3D%3D?line=5'>6</a>\u001b[0m     img \u001b[39m=\u001b[39m cv2\u001b[39m.\u001b[39mimread(img_path)\n\u001b[1;32m----> <a href='vscode-notebook-cell:/d%3A/TU%20Dublin/year%204/Image%20Processing/Text_Extraction_from_Images/.ipynb_checkpoints/Boxes-checkpoint.ipynb#W0sZmlsZQ%3D%3D?line=6'>7</a>\u001b[0m     img\u001b[39m=\u001b[39m cv2\u001b[39m.\u001b[39;49mresize(img,(\u001b[39m500\u001b[39;49m,\u001b[39m800\u001b[39;49m))\n\u001b[0;32m      <a href='vscode-notebook-cell:/d%3A/TU%20Dublin/year%204/Image%20Processing/Text_Extraction_from_Images/.ipynb_checkpoints/Boxes-checkpoint.ipynb#W0sZmlsZQ%3D%3D?line=7'>8</a>\u001b[0m     img_height, img_width, _ \u001b[39m=\u001b[39m img\u001b[39m.\u001b[39mshape  \u001b[39m# Get image dimensions\u001b[39;00m\n\u001b[0;32m     <a href='vscode-notebook-cell:/d%3A/TU%20Dublin/year%204/Image%20Processing/Text_Extraction_from_Images/.ipynb_checkpoints/Boxes-checkpoint.ipynb#W0sZmlsZQ%3D%3D?line=9'>10</a>\u001b[0m     \u001b[39m# Use Tesseract to get character-level bounding box information\u001b[39;00m\n",
      "\u001b[1;31merror\u001b[0m: OpenCV(4.7.0) D:\\a\\opencv-python\\opencv-python\\opencv\\modules\\imgproc\\src\\resize.cpp:4062: error: (-215:Assertion failed) !ssize.empty() in function 'cv::resize'\n"
     ]
    }
   ],
   "source": [
    "\n",
    "import cv2\n",
    "import pytesseract\n",
    "\n",
    "def draw_boxes_on_character(img_path):\n",
    "    # Load the image using OpenCV\n",
    "    img = cv2.imread(img_path)\n",
    "    img= cv2.resize(img,(500,800))\n",
    "    img_height, img_width, _ = img.shape  # Get image dimensions\n",
    "\n",
    "    # Use Tesseract to get character-level bounding box information\n",
    "    boxes = pytesseract.image_to_boxes(img)\n",
    "\n",
    "    for box in boxes.splitlines():\n",
    "        box = box.split(\" \")\n",
    "        character = box[0]\n",
    "        x = int(box[1])\n",
    "        y = int(box[2])\n",
    "        x2 = int(box[3])\n",
    "        y2 = int(box[4])\n",
    "\n",
    "        # Draw a bounding box around the character\n",
    "        cv2.rectangle(img, (x, img_height - y), (x2, img_height - y2), (0, 255, 0), 1)\n",
    "\n",
    "        # Add the character as a label\n",
    "        cv2.putText(img, character, (x, img_height - y2), cv2.FONT_HERSHEY_COMPLEX, 1, (0, 0, 255), 1)\n",
    "\n",
    "    return img\n",
    "\n",
    "# Specify the path to the image you want to process\n",
    "input_image_path = 'Boss.jpeg'\n",
    "\n",
    "# Call the function to draw boxes on detected characters\n",
    "result_image = draw_boxes_on_character(input_image_path)\n",
    "\n",
    "# Display or save the resulting image\n",
    "cv2.imshow('Detected Characters', result_image)\n",
    "cv2.waitKey(0)\n",
    "cv2.destroyAllWindows()\n",
    "\n",
    "# If you want to save the result to a file, you can use cv2.imwrite()\n",
    "# cv2.imwrite('result_image.jpg', result_image)\n"
   ]
  },
  {
   "cell_type": "code",
   "execution_count": null,
   "metadata": {},
   "outputs": [],
   "source": [
    "import cv2\n",
    "import pytesseract\n",
    "\n",
    "def draw_boxes_on_text(img_path):\n",
    "    # Load the image using OpenCV\n",
    "    img = cv2.imread(img_path)\n",
    "    img= cv2.resize(img,(500,800))\n",
    "\n",
    "    # Return raw information about the detected texts\n",
    "    raw_data = pytesseract.image_to_data(img)\n",
    "\n",
    "    for count, data in enumerate(raw_data.splitlines()):\n",
    "        if count > 0:\n",
    "            data = data.split()\n",
    "            if len(data) == 12:\n",
    "                x, y, w, h, content = int(data[6]), int(data[7]), int(data[8]), int(data[9]), data[11]\n",
    "                \n",
    "                # Draw a bounding box around the detected text\n",
    "                cv2.rectangle(img, (x, y), (x + w, y + h), (0, 255, 0), 1)\n",
    "                \n",
    "                # Add the detected text as a label\n",
    "                cv2.putText(img, content, (x, y - 10), cv2.FONT_HERSHEY_COMPLEX, 0.5, (0, 0, 255), 1)\n",
    "\n",
    "    return img\n",
    "\n",
    "# Specify the path to the image you want to process\n",
    "input_image_path = 'Boss.jpeg'\n",
    "\n",
    "# Call the function to draw boxes on detected text\n",
    "result_image = draw_boxes_on_text(input_image_path)\n",
    "\n",
    "# Display or save the resulting image\n",
    "cv2.imshow('Detected Text', result_image)\n",
    "cv2.waitKey(0)\n",
    "cv2.destroyAllWindows()\n",
    "\n",
    "# If you want to save the result to a file, you can use cv2.imwrite()\n",
    "# cv2.imwrite('result_image.jpg', result_image)\n"
   ]
  }
 ],
 "metadata": {
  "kernelspec": {
   "display_name": "Python 3",
   "language": "python",
   "name": "python3"
  },
  "language_info": {
   "codemirror_mode": {
    "name": "ipython",
    "version": 3
   },
   "file_extension": ".py",
   "mimetype": "text/x-python",
   "name": "python",
   "nbconvert_exporter": "python",
   "pygments_lexer": "ipython3",
   "version": "3.9.12"
  }
 },
 "nbformat": 4,
 "nbformat_minor": 4
}
