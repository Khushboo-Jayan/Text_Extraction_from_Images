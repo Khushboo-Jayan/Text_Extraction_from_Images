{
 "cells": [
  {
   "cell_type": "code",
   "execution_count": 1,
   "metadata": {},
   "outputs": [
    {
     "name": "stdout",
     "output_type": "stream",
     "text": [
      "Requirement already satisfied: pytesseract in c:\\users\\ragha\\miniconda3\\lib\\site-packages (0.3.10)\n",
      "Requirement already satisfied: packaging>=21.3 in c:\\users\\ragha\\miniconda3\\lib\\site-packages (from pytesseract) (23.2)\n",
      "Requirement already satisfied: Pillow>=8.0.0 in c:\\users\\ragha\\miniconda3\\lib\\site-packages (from pytesseract) (10.0.1)\n"
     ]
    }
   ],
   "source": [
    "!pip install pytesseract"
   ]
  },
  {
   "cell_type": "code",
   "execution_count": 2,
   "metadata": {},
   "outputs": [],
   "source": [
    "%matplotlib inline\n",
    "import cv2\n",
    "import pytesseract\n",
    "import pytesseract\n",
    "\n",
    "pytesseract.pytesseract.tesseract_cmd = r'C:\\Program Files\\Tesseract-OCR\\tesseract.exe'  # Update with your Tesseract path\n",
    "\n",
    "import numpy as np # Helpful when working with arrays; install using `pip install numpy`\n",
    "from matplotlib import pyplot as plt # Good for graphing; install using `pip install matplotlib`\n",
    "from matplotlib import image as image\n",
    "import easygui"
   ]
  },
  {
   "cell_type": "code",
   "execution_count": 3,
   "metadata": {},
   "outputs": [],
   "source": [
    "f = easygui.fileopenbox(filetypes=[\"*.jpg\",\"*.jpeg\",\"*.png\"])\n",
    "I = cv2.imread(f)"
   ]
  },
  {
   "cell_type": "code",
   "execution_count": 4,
   "metadata": {},
   "outputs": [
    {
     "data": {
      "text/plain": [
       "-1"
      ]
     },
     "execution_count": 4,
     "metadata": {},
     "output_type": "execute_result"
    }
   ],
   "source": [
    "V = cv2.imshow(\"Thoughts\", I)\n",
    "cv2.waitKey(0)\n",
    "cv2.destroyAllWindows()\n",
    "\n",
    "cv2.waitKey(1)"
   ]
  },
  {
   "cell_type": "code",
   "execution_count": null,
   "metadata": {},
   "outputs": [],
   "source": [
    "gray = cv2.cvtColor(I, cv2.COLOR_BGR2GRAY)\n",
    "gray = cv2.GaussianBlur(gray, (5, 5), 0)\n",
    "gray = cv2.threshold(gray, 0, 255, cv2.THRESH_BINARY + cv2.THRESH_OTSU)[1]\n",
    "\n",
    "cv2.imshow(\"Thoughts updates\", gray)\n",
    "cv2.waitKey(0)\n",
    "cv2.destroyAllWindows()\n",
    "\n",
    "cv2.waitKey(1)\n"
   ]
  },
  {
   "cell_type": "code",
   "execution_count": 5,
   "metadata": {},
   "outputs": [
    {
     "name": "stdout",
     "output_type": "stream",
     "text": [
      "If you\n",
      "believe\n",
      "in yourself,\n",
      "anything 1S\n",
      "\n",
      "YOUR Positive OASIS\n",
      "\n"
     ]
    }
   ],
   "source": [
    "# Use Tesseract to extract text\n",
    "text = pytesseract.image_to_string(I)  # '--psm 6' for single block of text\n",
    "\n",
    "# Print the extracted text\n",
    "print(text)"
   ]
  },
  {
   "cell_type": "code",
   "execution_count": 6,
   "metadata": {},
   "outputs": [
    {
     "name": "stdout",
     "output_type": "stream",
     "text": [
      "I 134 654 164 725 0\n",
      "f 167 654 205 729 0\n",
      "y 222 632 269 698 0\n",
      "o 271 653 315 699 0\n",
      "u 318 653 367 698 0\n",
      "b 52 550 100 626 0\n",
      "e 104 551 142 597 0\n",
      "l 144 552 167 627 0\n",
      "i 169 552 191 621 0\n",
      "e 195 551 234 597 0\n",
      "v 235 550 285 595 0\n",
      "e 287 551 326 597 0\n",
      "i 31 449 53 519 0\n",
      "n 55 449 105 495 0\n",
      "y 132 427 179 493 0\n",
      "o 181 448 225 495 0\n",
      "u 227 448 277 493 0\n",
      "r 256 427 293 524 0\n",
      "s 280 449 315 496 0\n",
      "e 318 448 349 495 0\n",
      "l 352 448 391 495 0\n",
      "f 393 450 416 524 0\n",
      ", 418 435 466 524 0\n",
      "a 101 346 141 392 0\n",
      "n 143 347 192 392 0\n",
      "y 193 325 240 390 0\n",
      "t 243 346 274 401 0\n",
      "h 276 347 326 422 0\n",
      "i 329 347 351 416 0\n",
      "n 354 347 403 392 0\n",
      "g 406 323 445 394 0\n",
      "1 476 347 498 416 0\n",
      "S 502 346 533 392 0\n",
      "~ 0 244 101 422 0\n",
      "~ 533 244 736 422 0\n",
      "~ 0 0 736 244 0\n",
      "Y 244 2 260 39 0\n",
      "O 262 2 276 39 0\n",
      "U 280 2 294 39 0\n",
      "R 298 2 312 39 0\n",
      "P 322 2 330 38 0\n",
      "o 329 2 341 38 0\n",
      "s 340 2 352 38 0\n",
      "i 322 2 394 38 0\n",
      "t 361 2 369 38 0\n",
      "i 369 2 377 38 0\n",
      "v 376 2 384 38 0\n",
      "e 383 2 394 38 0\n",
      "O 402 3 415 37 0\n",
      "A 417 4 432 36 0\n",
      "S 433 3 447 37 0\n",
      "I 449 4 454 36 0\n",
      "S 457 3 471 37 0\n",
      "\n"
     ]
    }
   ],
   "source": [
    "boxes = pytesseract.image_to_boxes(I)\n",
    "print(boxes)"
   ]
  },
  {
   "cell_type": "code",
   "execution_count": null,
   "metadata": {},
   "outputs": [],
   "source": [
    "import cv2\n",
    "import pytesseract\n",
    "\n",
    "def draw_boxes_on_text(img_path):\n",
    "    # Load the image using OpenCV\n",
    "    img = cv2.imread(img_path)\n",
    "    img= cv2.resize(img,(500,800))\n",
    "\n",
    "    # Return raw information about the detected texts\n",
    "    raw_data = pytesseract.image_to_data(img)\n",
    "\n",
    "    for count, data in enumerate(raw_data.splitlines()):\n",
    "        if count > 0:\n",
    "            data = data.split()\n",
    "            if len(data) == 12:\n",
    "                x, y, w, h, content = int(data[6]), int(data[7]), int(data[8]), int(data[9]), data[11]\n",
    "                \n",
    "                # Draw a bounding box around the detected text\n",
    "                cv2.rectangle(img, (x, y), (x + w, y + h), (0, 255, 0), 1)\n",
    "                \n",
    "                # Add the detected text as a label\n",
    "                cv2.putText(img, content, (x, y - 10), cv2.FONT_HERSHEY_COMPLEX, 0.5, (0, 0, 255), 1)\n",
    "\n",
    "    return img\n",
    "\n",
    "# Specify the path to the image you want to process\n",
    "input_image_path = 'Ayan.jpeg'\n",
    "\n",
    "# Call the function to draw boxes on detected text\n",
    "result_image = draw_boxes_on_text(input_image_path)\n",
    "\n",
    "# Display or save the resulting image\n",
    "cv2.imshow('Detected Text', result_image)\n",
    "cv2.waitKey(0)\n",
    "cv2.destroyAllWindows()\n",
    "\n",
    "# If you want to save the result to a file, you can use cv2.imwrite()\n",
    "# cv2.imwrite('result_image.jpg', result_image)\n"
   ]
  }
 ],
 "metadata": {
  "kernelspec": {
   "display_name": "Python 3",
   "language": "python",
   "name": "python3"
  },
  "language_info": {
   "codemirror_mode": {
    "name": "ipython",
    "version": 3
   },
   "file_extension": ".py",
   "mimetype": "text/x-python",
   "name": "python",
   "nbconvert_exporter": "python",
   "pygments_lexer": "ipython3",
   "version": "3.8.3"
  }
 },
 "nbformat": 4,
 "nbformat_minor": 4
}
