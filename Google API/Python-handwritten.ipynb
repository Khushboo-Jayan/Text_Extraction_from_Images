{
 "cells": [
  {
   "cell_type": "markdown",
   "id": "ea91f07b",
   "metadata": {},
   "source": [
    "This is a python program to process handwritten text using python and Google Cloud Vision\n"
   ]
  },
  {
   "cell_type": "markdown",
   "id": "82e06bf4",
   "metadata": {},
   "source": [
    "Only Tesseract will not work for this project as Tesseract/ pyTesseract only converts digital data into fields. Here we are dealing with handwritten texts."
   ]
  },
  {
   "cell_type": "markdown",
   "id": "ec98ae54",
   "metadata": {},
   "source": [
    "We will use Handprint, a Python package to convert handwritten images into digital data which later can be saved to CSV data or a database. It also shows annoted images with the text recognized."
   ]
  },
  {
   "cell_type": "code",
   "execution_count": null,
   "id": "9d72fa71",
   "metadata": {},
   "outputs": [],
   "source": [
    "!pip install google-cloud-vision"
   ]
  },
  {
   "cell_type": "code",
   "execution_count": 1,
   "id": "290001e4",
   "metadata": {},
   "outputs": [],
   "source": [
    "import os\n",
    "import io\n",
    "import pandas as pd\n",
    "from google.cloud import vision_v1\n",
    "from google.cloud.vision_v1 import types"
   ]
  },
  {
   "cell_type": "code",
   "execution_count": 2,
   "id": "259bff3b",
   "metadata": {},
   "outputs": [],
   "source": [
    "os.environ['GOOGLE_APPLICATION_CREDENTIALS'] = r'service_key.json'"
   ]
  },
  {
   "cell_type": "code",
   "execution_count": 5,
   "id": "1d1294f3",
   "metadata": {},
   "outputs": [],
   "source": [
    "# Instantiates a client\n",
    "client = vision_v1.ImageAnnotatorClient()"
   ]
  },
  {
   "cell_type": "code",
   "execution_count": 20,
   "id": "0a69d4c9",
   "metadata": {},
   "outputs": [],
   "source": [
    "# FILE_NAME = 'test_1.jpg'\n",
    "# FOLDER_PATH = r'C:\\Users\\abedi\\Downloads\\College TU856 DT228\\Image_Processing_Practice'\n",
    "\n",
    "# with io.open(os.path.join(FOLDER_PATH, FILE_NAME), 'rb') as image_file:\n",
    "#     content = image_file.read()\n",
    "    \n",
    "# image = vision_v1.Image(content = content)\n",
    "\n",
    "# response = client.text_detection(image=image)\n",
    "# texts = response.text_annotations\n",
    "# print(\"Texts: \")\n",
    "\n",
    "# df = pd.DataFrame(columns=['locale', 'description'])\n",
    "# for text in texts:\n",
    "#     df = df.append(\n",
    "#         dict(\n",
    "#             locale = text.locale,\n",
    "#             description = text.description\n",
    "#         ),\n",
    "#         ignore_index=True\n",
    "#     )\n",
    "\n",
    "\n",
    "    "
   ]
  },
  {
   "cell_type": "code",
   "execution_count": 19,
   "id": "11ccf221",
   "metadata": {},
   "outputs": [
    {
     "name": "stdout",
     "output_type": "stream",
     "text": [
      "HT, MY NAME IS RAGHAV BANSAL\n",
      "THIS IS THE TEST FOR\n",
      "IMAGE PROCESSING\n",
      "HAVE A LOVELY DAY\n"
     ]
    }
   ],
   "source": [
    "from google.cloud import vision_v1\n",
    "from google.cloud.vision_v1 import types\n",
    "\n",
    "# Initialize the Google Cloud Vision client\n",
    "client = vision_v1.ImageAnnotatorClient()\n",
    "\n",
    "# Replace 'your-image.jpg' with the path to your image file\n",
    "image_path = 'test_8.jpeg'\n",
    "\n",
    "# Read the image file\n",
    "with open(image_path, 'rb') as image_file:\n",
    "    content = image_file.read()\n",
    "\n",
    "# Create a Vision API image object\n",
    "image = types.Image(content=content)\n",
    "\n",
    "# Perform text detection\n",
    "response = client.text_detection(image=image)\n",
    "\n",
    "# Extract text from the response\n",
    "detected_text = response.text_annotations[0].description\n",
    "\n",
    "# Print the detected text\n",
    "print(detected_text)\n",
    "\n",
    "# You can also save the detected text to a text file if desired\n",
    "with open('detected_text.txt', 'w', encoding='utf-8') as text_file:\n",
    "    text_file.write(detected_text)\n",
    "    \n"
   ]
  },
  {
   "cell_type": "code",
   "execution_count": 23,
   "id": "eed0bf84",
   "metadata": {},
   "outputs": [],
   "source": [
    "import cv2\n",
    "\n",
    "# Replace 'your-image.jpg' with the path to your image file\n",
    "image_path = 'test_8.jpeg'\n",
    "\n",
    "# Load the image using OpenCV\n",
    "image = cv2.imread(image_path)\n",
    "image = cv2.resize(image,(500,800))\n",
    "\n",
    "# Convert the image to grayscale for text detection\n",
    "gray = cv2.cvtColor(image, cv2.COLOR_BGR2GRAY)\n",
    "\n",
    "# Apply image preprocessing (e.g., thresholding) for better text extraction\n",
    "# You may need to adjust these parameters based on your image\n",
    "_, binary = cv2.threshold(gray, 128, 255, cv2.THRESH_BINARY)\n",
    "\n",
    "# Find text regions using the MSER algorithm (this can be adjusted)\n",
    "mser = cv2.MSER_create()\n",
    "regions, _ = mser.detectRegions(binary)\n",
    "\n",
    "# Create a copy of the original image to draw rectangles\n",
    "result_image = image.copy()\n",
    "\n",
    "# Iterate through the detected regions and draw rectangles\n",
    "for region in regions:\n",
    "    x, y, w, h = cv2.boundingRect(region)\n",
    "    cv2.rectangle(result_image, (x, y), (x + w, y + h), (0, 255, 0), 2)\n",
    "\n",
    "# Display or save the result image\n",
    "cv2.imshow('Text Detection Result', result_image)\n",
    "cv2.waitKey(0)\n",
    "cv2.destroyAllWindows()\n",
    "\n",
    "# If you want to save the result image, use the following:\n",
    "# cv2.imwrite('result_image.jpg', result_image)\n"
   ]
  }
 ],
 "metadata": {
  "kernelspec": {
   "display_name": "Python 3 (ipykernel)",
   "language": "python",
   "name": "python3"
  },
  "language_info": {
   "codemirror_mode": {
    "name": "ipython",
    "version": 3
   },
   "file_extension": ".py",
   "mimetype": "text/x-python",
   "name": "python",
   "nbconvert_exporter": "python",
   "pygments_lexer": "ipython3",
   "version": "3.11.4"
  }
 },
 "nbformat": 4,
 "nbformat_minor": 5
}
